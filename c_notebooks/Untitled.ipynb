{
 "cells": [
  {
   "cell_type": "code",
   "execution_count": 5,
   "id": "68865586-9e02-44ed-9dd8-2e0b2778f511",
   "metadata": {},
   "outputs": [
    {
     "name": "stdout",
     "output_type": "stream",
     "text": [
      "2 -117700744"
     ]
    }
   ],
   "source": [
    "#include <stdio.h>\n",
    "int main() {\n",
    "    int arr[2][2] = {{1,2}, {3,4}};\n",
    "    // trying to print consecutive array elements using single indexing\n",
    "    printf(\"%d %d\", arr[0][1], arr[3]);\n",
    "    return 0;\n",
    "}"
   ]
  },
  {
   "cell_type": "code",
   "execution_count": null,
   "id": "bc1f8e7d-3314-4fb5-b43a-0c3d603bee68",
   "metadata": {},
   "outputs": [],
   "source": []
  }
 ],
 "metadata": {
  "kernelspec": {
   "display_name": "C",
   "language": "c",
   "name": "c"
  },
  "language_info": {
   "file_extension": ".c",
   "mimetype": "text/plain",
   "name": "c"
  }
 },
 "nbformat": 4,
 "nbformat_minor": 5
}
